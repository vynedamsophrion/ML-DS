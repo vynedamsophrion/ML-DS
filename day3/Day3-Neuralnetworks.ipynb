{
 "cells": [
  {
   "cell_type": "code",
   "execution_count": 4,
   "id": "6642b960-f776-4265-aabb-9ae224bb2c1e",
   "metadata": {},
   "outputs": [],
   "source": [
    "import numpy as np\n",
    "\n",
    "X = np.array([[0,0],[0,1],[1,0],[1,1]])\n",
    "y = np.array([[0],[1],[1],[0]])\n",
    "\n",
    "np.random.seed(42)\n",
    "w1 = np.random.randn(2, 2)\n",
    "b1 = np.zeros((1, 2))\n",
    "w2 = np.random.randn(2, 1)\n",
    "b2 = np.zeros((1, 1))\n",
    "\n"
   ]
  },
  {
   "cell_type": "code",
   "execution_count": 5,
   "id": "1c3fe56b-3603-4d09-8e34-87b6c05640b6",
   "metadata": {},
   "outputs": [],
   "source": [
    "def sigmoid(x):\n",
    "    return 1 / (1 + np.exp(-x))\n",
    "\n",
    "def sigmoid_derivative(x):\n",
    "    return x * (1 - x)\n",
    "\n",
    "lr = 0.1\n",
    "epochs = 10000\n",
    "\n"
   ]
  },
  {
   "cell_type": "code",
   "execution_count": 6,
   "id": "fe0ab775-40e7-45f8-b6b7-105d6b1173a5",
   "metadata": {},
   "outputs": [
    {
     "name": "stdout",
     "output_type": "stream",
     "text": [
      "Epoch 0 | Loss: 0.2558\n",
      "Epoch 1000 | Loss: 0.2494\n",
      "Epoch 2000 | Loss: 0.2454\n",
      "Epoch 3000 | Loss: 0.2047\n",
      "Epoch 4000 | Loss: 0.1532\n",
      "Epoch 5000 | Loss: 0.1387\n",
      "Epoch 6000 | Loss: 0.1336\n",
      "Epoch 7000 | Loss: 0.1312\n",
      "Epoch 8000 | Loss: 0.1297\n",
      "Epoch 9000 | Loss: 0.1288\n"
     ]
    }
   ],
   "source": [
    "for i in range(epochs):\n",
    "    # Forward Propagation\n",
    "    z1 = np.dot(X, w1) + b1\n",
    "    a1 = sigmoid(z1)\n",
    "    z2 = np.dot(a1, w2) + b2\n",
    "    a2 = sigmoid(z2)\n",
    "\n",
    "    loss = np.mean((y - a2)**2)\n",
    "\n",
    "    # Backward Propagation\n",
    "    d_a2 = (a2 - y)\n",
    "    d_z2 = d_a2 * sigmoid_derivative(a2)\n",
    "    d_w2 = np.dot(a1.T, d_z2)\n",
    "    d_b2 = np.sum(d_z2, axis=0, keepdims=True)\n",
    "\n",
    "    d_a1 = np.dot(d_z2, w2.T)\n",
    "    d_z1 = d_a1 * sigmoid_derivative(a1)\n",
    "    d_w1 = np.dot(X.T, d_z1)\n",
    "    d_b1 = np.sum(d_z1, axis=0, keepdims=True)\n",
    "\n",
    "    w1 -= lr * d_w1\n",
    "    b1 -= lr * d_b1\n",
    "    w2 -= lr * d_w2\n",
    "    b2 -= lr * d_b2\n",
    "\n",
    "    if i % 1000 == 0:\n",
    "        print(f\"Epoch {i} | Loss: {loss:.4f}\")\n",
    "\n"
   ]
  },
  {
   "cell_type": "code",
   "execution_count": 7,
   "id": "486bcf99-412f-4e40-8f34-1b544f68f852",
   "metadata": {},
   "outputs": [
    {
     "name": "stdout",
     "output_type": "stream",
     "text": [
      "\n",
      "Final Predictions:\n",
      "[[0.]\n",
      " [0.]\n",
      " [1.]\n",
      " [1.]]\n"
     ]
    }
   ],
   "source": [
    "output = sigmoid(np.dot(sigmoid(np.dot(X, w1) + b1), w2) + b2)\n",
    "print(\"\\nFinal Predictions:\")\n",
    "print(np.round(output))\n"
   ]
  },
  {
   "cell_type": "code",
   "execution_count": null,
   "id": "325c8df2-80be-4a5e-8b90-f0ee50c3f519",
   "metadata": {},
   "outputs": [],
   "source": []
  }
 ],
 "metadata": {
  "kernelspec": {
   "display_name": "Python [conda env:base] *",
   "language": "python",
   "name": "conda-base-py"
  },
  "language_info": {
   "codemirror_mode": {
    "name": "ipython",
    "version": 3
   },
   "file_extension": ".py",
   "mimetype": "text/x-python",
   "name": "python",
   "nbconvert_exporter": "python",
   "pygments_lexer": "ipython3",
   "version": "3.13.5"
  }
 },
 "nbformat": 4,
 "nbformat_minor": 5
}
