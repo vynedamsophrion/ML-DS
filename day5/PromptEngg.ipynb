{
 "cells": [
  {
   "cell_type": "code",
   "execution_count": 1,
   "id": "e5de51ea-6301-40ac-abf6-efeb1abe7a62",
   "metadata": {},
   "outputs": [
    {
     "name": "stdout",
     "output_type": "stream",
     "text": [
      "Initializing model...\n"
     ]
    },
    {
     "data": {
      "application/vnd.jupyter.widget-view+json": {
       "model_id": "9d53eeace2e24bafaea3dd024deb1514",
       "version_major": 2,
       "version_minor": 0
      },
      "text/plain": [
       "config.json:   0%|          | 0.00/762 [00:00<?, ?B/s]"
      ]
     },
     "metadata": {},
     "output_type": "display_data"
    },
    {
     "name": "stderr",
     "output_type": "stream",
     "text": [
      "C:\\Users\\datta\\anaconda3\\Lib\\site-packages\\huggingface_hub\\file_download.py:143: UserWarning: `huggingface_hub` cache-system uses symlinks by default to efficiently store duplicated files but your machine does not support them in C:\\Users\\datta\\.cache\\huggingface\\hub\\models--distilgpt2. Caching files will still work but in a degraded version that might require more space on your disk. This warning can be disabled by setting the `HF_HUB_DISABLE_SYMLINKS_WARNING` environment variable. For more details, see https://huggingface.co/docs/huggingface_hub/how-to-cache#limitations.\n",
      "To support symlinks on Windows, you either need to activate Developer Mode or to run Python as an administrator. In order to activate developer mode, see this article: https://docs.microsoft.com/en-us/windows/apps/get-started/enable-your-device-for-development\n",
      "  warnings.warn(message)\n",
      "Xet Storage is enabled for this repo, but the 'hf_xet' package is not installed. Falling back to regular HTTP download. For better performance, install the package with: `pip install huggingface_hub[hf_xet]` or `pip install hf_xet`\n"
     ]
    },
    {
     "data": {
      "application/vnd.jupyter.widget-view+json": {
       "model_id": "15684fc795f04101805ad873bb3910b2",
       "version_major": 2,
       "version_minor": 0
      },
      "text/plain": [
       "model.safetensors:   0%|          | 0.00/353M [00:00<?, ?B/s]"
      ]
     },
     "metadata": {},
     "output_type": "display_data"
    },
    {
     "data": {
      "application/vnd.jupyter.widget-view+json": {
       "model_id": "4577b06f03134e01a7034848b31b82ce",
       "version_major": 2,
       "version_minor": 0
      },
      "text/plain": [
       "generation_config.json:   0%|          | 0.00/124 [00:00<?, ?B/s]"
      ]
     },
     "metadata": {},
     "output_type": "display_data"
    },
    {
     "data": {
      "application/vnd.jupyter.widget-view+json": {
       "model_id": "4835cfa8e62444479a1b26d15b7aafa9",
       "version_major": 2,
       "version_minor": 0
      },
      "text/plain": [
       "tokenizer_config.json:   0%|          | 0.00/26.0 [00:00<?, ?B/s]"
      ]
     },
     "metadata": {},
     "output_type": "display_data"
    },
    {
     "data": {
      "application/vnd.jupyter.widget-view+json": {
       "model_id": "2bf7bdc642f54f38aae0245c6b720adb",
       "version_major": 2,
       "version_minor": 0
      },
      "text/plain": [
       "vocab.json:   0%|          | 0.00/1.04M [00:00<?, ?B/s]"
      ]
     },
     "metadata": {},
     "output_type": "display_data"
    },
    {
     "data": {
      "application/vnd.jupyter.widget-view+json": {
       "model_id": "df0137a422ec4ff3a0ba48491c527510",
       "version_major": 2,
       "version_minor": 0
      },
      "text/plain": [
       "merges.txt:   0%|          | 0.00/456k [00:00<?, ?B/s]"
      ]
     },
     "metadata": {},
     "output_type": "display_data"
    },
    {
     "data": {
      "application/vnd.jupyter.widget-view+json": {
       "model_id": "e97b190594284e82a791b30008657974",
       "version_major": 2,
       "version_minor": 0
      },
      "text/plain": [
       "tokenizer.json:   0%|          | 0.00/1.36M [00:00<?, ?B/s]"
      ]
     },
     "metadata": {},
     "output_type": "display_data"
    },
    {
     "name": "stderr",
     "output_type": "stream",
     "text": [
      "Device set to use cpu\n",
      "Truncation was not explicitly activated but `max_length` is provided a specific value, please use `truncation=True` to explicitly truncate examples to max length. Defaulting to 'longest_first' truncation strategy. If you encode pairs of sequences (GLUE-style) with the tokenizer you can select this strategy more precisely by providing a specific strategy to `truncation`.\n",
      "Setting `pad_token_id` to `eos_token_id`:50256 for open-end generation.\n",
      "Both `max_new_tokens` (=256) and `max_length`(=60) seem to have been set. `max_new_tokens` will take precedence. Please refer to the documentation for more information. (https://huggingface.co/docs/transformers/main/en/main_classes/text_generation)\n"
     ]
    },
    {
     "name": "stdout",
     "output_type": "stream",
     "text": [
      "Model is ready!\n",
      "Testing question: A man had 25 oranges. He gave some to his friends and only 10 are left. How many did he give away?\n",
      "\n",
      "--- Zero-shot prompting ---\n"
     ]
    },
    {
     "name": "stderr",
     "output_type": "stream",
     "text": [
      "Setting `pad_token_id` to `eos_token_id`:50256 for open-end generation.\n",
      "Both `max_new_tokens` (=256) and `max_length`(=120) seem to have been set. `max_new_tokens` will take precedence. Please refer to the documentation for more information. (https://huggingface.co/docs/transformers/main/en/main_classes/text_generation)\n"
     ]
    },
    {
     "name": "stdout",
     "output_type": "stream",
     "text": [
      "\n",
      "🔹 Zero-shot response:\n",
      "Question: A man had 25 oranges. He gave some to his friends and only 10 are left. How many did he give away?\n",
      "Answer: He gave his oranges to his friends and only 10 are left. How many did he give away?\n",
      "Answer: He gave his oranges to his friends and only 10 are left. How many did he give away?\n",
      "Answer: He gave his oranges to his friends and only 10 are left. How many did he give away?\n",
      "Answer: He gave his oranges to his friends and only 10 are left. How many did he give away?\n",
      "Answer: He gave his oranges to his friends and only 10 are left. How many did he give away?\n",
      "Answer: He gave his oranges to his friends and only 10 are left. How many did he give away?\n",
      "Answer: He gave his oranges to his friends and only 10 are left. How many did he give away?\n",
      "Answer: He gave his oranges to his friends and only 10 are left. How many did he give away?\n",
      "Answer: He gave his oranges to his friends and only 10 are left. How many did he give away?\n",
      "Answer: He gave his oranges to his friends and only 10 are left. How many did he give away?\n",
      "Answer: He gave his oranges to his friends and only 10 are left. How many did he give away?\n",
      "Answer: He gave his\n",
      "\n",
      "--- Few-shot prompting ---\n"
     ]
    },
    {
     "name": "stderr",
     "output_type": "stream",
     "text": [
      "Setting `pad_token_id` to `eos_token_id`:50256 for open-end generation.\n",
      "Both `max_new_tokens` (=256) and `max_length`(=160) seem to have been set. `max_new_tokens` will take precedence. Please refer to the documentation for more information. (https://huggingface.co/docs/transformers/main/en/main_classes/text_generation)\n"
     ]
    },
    {
     "name": "stdout",
     "output_type": "stream",
     "text": [
      "\n",
      "🔹 Few-shot response:\n",
      "Here are a few examples:\n",
      "\n",
      "Q: There are 15 candies and you eat 5. How many are left?\n",
      "A: 10\n",
      "\n",
      "Q: You have 20 pens and lose 8. How many remain?\n",
      "A: 12\n",
      "\n",
      "Q: A man had 25 oranges. He gave some to his friends and only 10 are left. How many did he give away?\n",
      "A: 7\n",
      "Q: You're dead.\n",
      "A: 4\n",
      "Q: You're dead.\n",
      "A: 3\n",
      "Q: You're dead.\n",
      "A: 2\n",
      "Q: You're dead.\n",
      "A: 1\n",
      "Q: You're dead.\n",
      "A: 1\n",
      "Q: You're dead.\n",
      "A: 1\n",
      "Q: You're dead.\n",
      "A: 1\n",
      "Q: You're dead.\n",
      "A: 1\n",
      "Q: You're dead.\n",
      "A: 1\n",
      "Q: You're dead.\n",
      "A: 1\n",
      "Q: You're dead.\n",
      "A: 1\n",
      "Q: You're dead.\n",
      "A: 1\n",
      "Q: You're dead.\n",
      "A: 1\n",
      "Q: You're dead.\n",
      "A: 1\n",
      "Q: You're dead.\n",
      "A: 1\n",
      "Q: You're dead.\n",
      "A: 1\n",
      "Q: You're dead.\n",
      "A: 1\n",
      "Q: You're dead.\n",
      "A: 1\n",
      "Q: You're dead.\n",
      "A: 1\n",
      "Q: You're dead.\n",
      "A: 1\n",
      "Q: You're dead.\n",
      "A: 1\n",
      "Q: You're dead.\n",
      "A: 1\n",
      "Q: You're dead.\n",
      "A: 1\n",
      "Q\n",
      "\n",
      "--- Chain-of-thought prompting ---\n",
      "\n",
      "🔹 Chain-of-thought response:\n",
      "Let's solve it step-by-step:\n",
      "\n",
      "Q: A man had 25 oranges. He gave some to his friends and only 10 are left. How many did he give away?\n",
      "A: Let's think carefully:\n",
      "1. The man starts with 25 oranges.\n",
      "2. After giving some away, he has 10 left.\n",
      "3. That means he gave away 25 - 10 = 15 oranges.\n",
      "Therefore, the answer is 15 oranges.\n",
      "\n",
      "Q: A man had 25 oranges. He gave some to his friends and only 10 are left. How many did he give away?\n",
      "A: Let's think carefully:\n",
      "1. The man gives away 25 - 10 = 15 oranges.\n",
      "2. After giving some away, he has 10 left.\n",
      "3. That means he gave away 25 - 10 = 15 oranges.\n",
      "So, how many did he give away?\n",
      "A: Let's think carefully:\n",
      "1. The man gives away 25 - 10 = 15 oranges.\n",
      "2. After giving some away, he has 10 left.\n",
      "3. That means he gave away 25 - 10 = 15 oranges.\n",
      "3. That means he gave away 25 - 10 = 15 oranges.\n",
      "4. That means he gave away 25 - 10 = 15 oranges.\n",
      "5. That means he gave away 25 - 10 = 15 oranges.\n",
      "Q: A man had 25 oranges. He gave some to his friends and only 10 are left. How many did he give away?\n",
      "A: Let's think carefully:\n",
      "1. The man gives away 25 - 10 = 15 oranges.\n",
      "2. After giving some away, he has 10 left.\n",
      "3. That means he gave away 25 - 10 = 15 oranges.\n",
      "4. That means he gave away 25 - 10 = 15 oranges.\n",
      "5. That means he gave away 25 - 10\n"
     ]
    }
   ],
   "source": [
    "!pip install transformers torch --quiet\n",
    "\n",
    "from transformers import pipeline\n",
    "\n",
    "print(\"Initializing model...\")\n",
    "generator = pipeline('text-generation', model='distilgpt2')\n",
    "print(\"Model is ready!\")\n",
    "\n",
    "question = \"A man had 25 oranges. He gave some to his friends and only 10 are left. How many did he give away?\"\n",
    "print(f\"Testing question: {question}\")\n",
    "\n",
    "print(\"\\n--- Zero-shot prompting ---\")\n",
    "zero_shot = generator(\n",
    "    f\"Question: {question}\\nAnswer:\",\n",
    "    max_length=60,\n",
    "    num_return_sequences=1\n",
    ")\n",
    "print(\"\\n🔹 Zero-shot response:\")\n",
    "print(zero_shot[0]['generated_text'])\n",
    "\n",
    "print(\"\\n--- Few-shot prompting ---\")\n",
    "few_shot = generator(\n",
    "    \"\"\"Here are a few examples:\n",
    "\n",
    "Q: There are 15 candies and you eat 5. How many are left?\n",
    "A: 10\n",
    "\n",
    "Q: You have 20 pens and lose 8. How many remain?\n",
    "A: 12\n",
    "\n",
    "Q: A man had 25 oranges. He gave some to his friends and only 10 are left. How many did he give away?\n",
    "A:\"\"\",\n",
    "    max_length=120,\n",
    "    num_return_sequences=1\n",
    ")\n",
    "print(\"\\n🔹 Few-shot response:\")\n",
    "print(few_shot[0]['generated_text'])\n",
    "\n",
    "print(\"\\n--- Chain-of-thought prompting ---\")\n",
    "cot = generator(\n",
    "    \"\"\"Let's solve it step-by-step:\n",
    "\n",
    "Q: A man had 25 oranges. He gave some to his friends and only 10 are left. How many did he give away?\n",
    "A: Let's think carefully:\n",
    "1. The man starts with 25 oranges.\n",
    "2. After giving some away, he has 10 left.\n",
    "3. That means he gave away 25 - 10 = 15 oranges.\n",
    "Therefore, the answer is 15 oranges.\n",
    "\n",
    "Q: A man had 25 oranges. He gave some to his friends and only 10 are left. How many did he give away?\n",
    "A:\"\"\",\n",
    "    max_length=160,\n",
    "    num_return_sequences=1\n",
    ")\n",
    "print(\"\\n🔹 Chain-of-thought response:\")\n",
    "print(cot[0]['generated_text'])\n"
   ]
  }
 ],
 "metadata": {
  "kernelspec": {
   "display_name": "Python [conda env:base] *",
   "language": "python",
   "name": "conda-base-py"
  },
  "language_info": {
   "codemirror_mode": {
    "name": "ipython",
    "version": 3
   },
   "file_extension": ".py",
   "mimetype": "text/x-python",
   "name": "python",
   "nbconvert_exporter": "python",
   "pygments_lexer": "ipython3",
   "version": "3.13.5"
  }
 },
 "nbformat": 4,
 "nbformat_minor": 5
}
