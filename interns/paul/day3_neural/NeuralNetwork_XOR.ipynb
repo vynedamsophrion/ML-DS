{
 "cells": [
  {
   "cell_type": "code",
   "execution_count": 1,
   "id": "4c88974f-e3f7-444e-ad95-b785cd27a3bb",
   "metadata": {},
   "outputs": [],
   "source": [
    "#Importing libraries\n",
    "import numpy as np"
   ]
  },
  {
   "cell_type": "code",
   "execution_count": 3,
   "id": "51baa48b-3465-4282-bdff-b0704a804e5d",
   "metadata": {},
   "outputs": [],
   "source": [
    "#Define input and output\n",
    "X = np.array([[0,0],[0,1],[1,0],[1,1]])\n",
    "y = np.array([[0],[1],[1],[0]])"
   ]
  },
  {
   "cell_type": "code",
   "execution_count": 5,
   "id": "730c4320-abcd-4e1a-bd60-61b75d36ec94",
   "metadata": {},
   "outputs": [],
   "source": [
    "#Initialize weights and bias\n",
    "np.random.seed(42)\n",
    "w1 = np.random.randn(2, 2)\n",
    "b1 = np.zeros((1, 2))\n",
    "w2 = np.random.randn(2, 1)\n",
    "b2 = np.zeros((1, 1))"
   ]
  },
  {
   "cell_type": "code",
   "execution_count": 7,
   "id": "28b10341-08a5-40c5-aaff-5069e29f4c9a",
   "metadata": {},
   "outputs": [],
   "source": [
    "#Define activation function\n",
    "def sigmoid(x):\n",
    "    return 1 / (1 + np.exp(-x))\n",
    "\n",
    "def sigmoid_derivative(x):\n",
    "    return x * (1 - x)"
   ]
  },
  {
   "cell_type": "code",
   "execution_count": 9,
   "id": "e5f3642e-bf3a-41db-98fa-2a12426e6dd8",
   "metadata": {},
   "outputs": [],
   "source": [
    "#Train the neural network\n",
    "lr = 0.1\n",
    "epochs = 10000\n",
    "\n",
    "for i in range(epochs):\n",
    "    # Forward Propagation\n",
    "    z1 = np.dot(X, w1) + b1\n",
    "    a1 = sigmoid(z1)\n",
    "    z2 = np.dot(a1, w2) + b2\n",
    "    a2 = sigmoid(z2)\n",
    "\n",
    "    # Compute loss\n",
    "    loss = np.mean((y - a2)**2)"
   ]
  },
  {
   "cell_type": "code",
   "execution_count": 11,
   "id": "8b5db261-3859-49ce-ae23-4591a0776ed0",
   "metadata": {},
   "outputs": [],
   "source": [
    "    # Backward Propagation\n",
    "    d_a2 = (a2 - y)\n",
    "    d_z2 = d_a2 * sigmoid_derivative(a2)\n",
    "    d_w2 = np.dot(a1.T, d_z2)\n",
    "    d_b2 = np.sum(d_z2, axis=0, keepdims=True)\n",
    "\n",
    "    d_a1 = np.dot(d_z2, w2.T)\n",
    "    d_z1 = d_a1 * sigmoid_derivative(a1)\n",
    "    d_w1 = np.dot(X.T, d_z1)\n",
    "    d_b1 = np.sum(d_z1, axis=0, keepdims=True)\n",
    "\n",
    "    # Update weights\n",
    "    w1 -= lr * d_w1\n",
    "    b1 -= lr * d_b1\n",
    "    w2 -= lr * d_w2\n",
    "    b2 -= lr * d_b2\n",
    "\n",
    "    if i % 1000 == 0:\n",
    "        print(f\"Epoch {i} | Loss: {loss:.4f}\")"
   ]
  },
  {
   "cell_type": "code",
   "execution_count": 13,
   "id": "8204e2a4-1918-4bc3-a4ac-be46f263c9f2",
   "metadata": {},
   "outputs": [
    {
     "name": "stdout",
     "output_type": "stream",
     "text": [
      "\n",
      "Final Predictions:\n",
      "[[0.]\n",
      " [0.]\n",
      " [0.]\n",
      " [0.]]\n"
     ]
    }
   ],
   "source": [
    "#Test the model\n",
    "output = sigmoid(np.dot(sigmoid(np.dot(X, w1) + b1), w2) + b2)\n",
    "print(\"\\nFinal Predictions:\")\n",
    "print(np.round(output))"
   ]
  },
  {
   "cell_type": "code",
   "execution_count": null,
   "id": "c2ffa81d-0020-4610-b9bc-40f29af8b1a9",
   "metadata": {},
   "outputs": [],
   "source": []
  }
 ],
 "metadata": {
  "kernelspec": {
   "display_name": "Python [conda env:base] *",
   "language": "python",
   "name": "conda-base-py"
  },
  "language_info": {
   "codemirror_mode": {
    "name": "ipython",
    "version": 3
   },
   "file_extension": ".py",
   "mimetype": "text/x-python",
   "name": "python",
   "nbconvert_exporter": "python",
   "pygments_lexer": "ipython3",
   "version": "3.12.7"
  }
 },
 "nbformat": 4,
 "nbformat_minor": 5
}
