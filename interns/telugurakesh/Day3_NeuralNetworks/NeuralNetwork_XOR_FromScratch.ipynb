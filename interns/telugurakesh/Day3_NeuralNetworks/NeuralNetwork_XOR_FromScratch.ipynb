{
 "cells": [
  {
   "cell_type": "code",
   "execution_count": 1,
   "id": "39cc31df",
   "metadata": {},
   "outputs": [],
   "source": [
    "#️⃣ Cell 1: Imports\n",
    "import numpy as np\n",
    "import matplotlib.pyplot as plt\n"
   ]
  },
  {
   "cell_type": "code",
   "execution_count": 2,
   "id": "0ecd903d",
   "metadata": {},
   "outputs": [],
   "source": [
    "#️⃣ Cell 2: Dataset (XOR logic)\n",
    "# Input data (XOR truth table)\n",
    "X = np.array([[0,0],\n",
    "              [0,1],\n",
    "              [1,0],\n",
    "              [1,1]])\n",
    "\n",
    "# Expected output\n",
    "y = np.array([[0], [1], [1], [0]])\n"
   ]
  },
  {
   "cell_type": "code",
   "execution_count": 3,
   "id": "33b98b32",
   "metadata": {},
   "outputs": [],
   "source": [
    "#️⃣ Cell 3: Initialize network parameters\n",
    "np.random.seed(42)\n",
    "\n",
    "input_size = 2\n",
    "hidden_size = 2\n",
    "output_size = 1\n",
    "learning_rate = 0.1\n",
    "\n",
    "# Random weights and biases\n",
    "W1 = np.random.randn(input_size, hidden_size)\n",
    "b1 = np.zeros((1, hidden_size))\n",
    "W2 = np.random.randn(hidden_size, output_size)\n",
    "b2 = np.zeros((1, output_size))\n"
   ]
  },
  {
   "cell_type": "code",
   "execution_count": 4,
   "id": "613d6eaf",
   "metadata": {},
   "outputs": [],
   "source": [
    "#️⃣ Cell 4: Define activation functions\n",
    "def sigmoid(x):\n",
    "    return 1 / (1 + np.exp(-x))\n",
    "\n",
    "def sigmoid_derivative(x):\n",
    "    return x * (1 - x)\n"
   ]
  },
  {
   "cell_type": "code",
   "execution_count": 5,
   "id": "99e01cdd",
   "metadata": {},
   "outputs": [
    {
     "ename": "ValueError",
     "evalue": "shapes (4,1) and (2,1) not aligned: 1 (dim 1) != 2 (dim 0)",
     "output_type": "error",
     "traceback": [
      "\u001b[31m---------------------------------------------------------------------------\u001b[39m",
      "\u001b[31mValueError\u001b[39m                                Traceback (most recent call last)",
      "\u001b[36mCell\u001b[39m\u001b[36m \u001b[39m\u001b[32mIn[5]\u001b[39m\u001b[32m, line 28\u001b[39m\n\u001b[32m     26\u001b[39m \u001b[38;5;66;03m# Gradients for hidden layer\u001b[39;00m\n\u001b[32m     27\u001b[39m d_a1_z1 = sigmoid_derivative(a1)\n\u001b[32m---> \u001b[39m\u001b[32m28\u001b[39m dW1 = np.dot(X.T, \u001b[43mnp\u001b[49m\u001b[43m.\u001b[49m\u001b[43mdot\u001b[49m\u001b[43m(\u001b[49m\u001b[43md_loss_a2\u001b[49m\u001b[43m \u001b[49m\u001b[43m*\u001b[49m\u001b[43m \u001b[49m\u001b[43md_a2_z2\u001b[49m\u001b[43m,\u001b[49m\u001b[43m \u001b[49m\u001b[43md_z2_a1\u001b[49m\u001b[43m.\u001b[49m\u001b[43mT\u001b[49m\u001b[43m)\u001b[49m * d_a1_z1)\n\u001b[32m     29\u001b[39m db1 = np.sum(np.dot(d_loss_a2 * d_a2_z2, d_z2_a1.T) * d_a1_z1, axis=\u001b[32m0\u001b[39m, keepdims=\u001b[38;5;28;01mTrue\u001b[39;00m)\n\u001b[32m     31\u001b[39m \u001b[38;5;66;03m# ---- Update weights ----\u001b[39;00m\n",
      "\u001b[31mValueError\u001b[39m: shapes (4,1) and (2,1) not aligned: 1 (dim 1) != 2 (dim 0)"
     ]
    }
   ],
   "source": [
    "#️⃣ Cell 5: Training loop\n",
    "epochs = 10000\n",
    "losses = []\n",
    "\n",
    "for epoch in range(epochs):\n",
    "    # ---- Forward Propagation ----\n",
    "    z1 = np.dot(X, W1) + b1\n",
    "    a1 = sigmoid(z1)\n",
    "    z2 = np.dot(a1, W2) + b2\n",
    "    a2 = sigmoid(z2)\n",
    "    \n",
    "    # ---- Loss (Mean Squared Error) ----\n",
    "    loss = np.mean((y - a2) ** 2)\n",
    "    losses.append(loss)\n",
    "    \n",
    "    # ---- Backward Propagation ----\n",
    "    d_loss_a2 = 2 * (a2 - y)\n",
    "    d_a2_z2 = sigmoid_derivative(a2)\n",
    "    d_z2_W2 = a1.T\n",
    "    d_z2_a1 = W2.T\n",
    "    \n",
    "    # Gradients for output layer\n",
    "    dW2 = np.dot(d_z2_W2, d_loss_a2 * d_a2_z2)\n",
    "    db2 = np.sum(d_loss_a2 * d_a2_z2, axis=0, keepdims=True)\n",
    "    \n",
    "    # Gradients for hidden layer\n",
    "    d_a1_z1 = sigmoid_derivative(a1)\n",
    "    dW1 = np.dot(X.T, np.dot(d_loss_a2 * d_a2_z2, d_z2_a1.T) * d_a1_z1)\n",
    "    db1 = np.sum(np.dot(d_loss_a2 * d_a2_z2, d_z2_a1.T) * d_a1_z1, axis=0, keepdims=True)\n",
    "    \n",
    "    # ---- Update weights ----\n",
    "    W1 -= learning_rate * dW1\n",
    "    b1 -= learning_rate * db1\n",
    "    W2 -= learning_rate * dW2\n",
    "    b2 -= learning_rate * db2\n",
    "    \n",
    "    # ---- Print progress ----\n",
    "    if epoch % 2000 == 0:\n",
    "        print(f\"Epoch {epoch}, Loss: {loss:.4f}\")\n"
   ]
  },
  {
   "cell_type": "code",
   "execution_count": 6,
   "id": "eb792676",
   "metadata": {},
   "outputs": [
    {
     "name": "stdout",
     "output_type": "stream",
     "text": [
      "Epoch 0, Loss: 0.2558\n",
      "Epoch 2000, Loss: 0.2454\n",
      "Epoch 4000, Loss: 0.1532\n",
      "Epoch 6000, Loss: 0.1336\n",
      "Epoch 8000, Loss: 0.1297\n"
     ]
    }
   ],
   "source": [
    "epochs = 10000\n",
    "losses = []\n",
    "\n",
    "for epoch in range(epochs):\n",
    "    # ---- Forward Propagation ----\n",
    "    z1 = np.dot(X, W1) + b1\n",
    "    a1 = sigmoid(z1)\n",
    "    z2 = np.dot(a1, W2) + b2\n",
    "    a2 = sigmoid(z2)\n",
    "    \n",
    "    # ---- Loss (Mean Squared Error) ----\n",
    "    loss = np.mean((y - a2) ** 2)\n",
    "    losses.append(loss)\n",
    "    \n",
    "    # ---- Backward Propagation ----\n",
    "    # Output layer error\n",
    "    d_a2 = a2 - y\n",
    "    d_z2 = d_a2 * sigmoid_derivative(a2)\n",
    "    \n",
    "    dW2 = np.dot(a1.T, d_z2)\n",
    "    db2 = np.sum(d_z2, axis=0, keepdims=True)\n",
    "    \n",
    "    # Hidden layer error\n",
    "    d_a1 = np.dot(d_z2, W2.T)\n",
    "    d_z1 = d_a1 * sigmoid_derivative(a1)\n",
    "    \n",
    "    dW1 = np.dot(X.T, d_z1)\n",
    "    db1 = np.sum(d_z1, axis=0, keepdims=True)\n",
    "    \n",
    "    # ---- Update weights ----\n",
    "    W1 -= learning_rate * dW1\n",
    "    b1 -= learning_rate * db1\n",
    "    W2 -= learning_rate * dW2\n",
    "    b2 -= learning_rate * db2\n",
    "    \n",
    "    # ---- Print progress ----\n",
    "    if epoch % 2000 == 0:\n",
    "        print(f\"Epoch {epoch}, Loss: {loss:.4f}\")\n"
   ]
  }
 ],
 "metadata": {
  "kernelspec": {
   "display_name": "Python 3",
   "language": "python",
   "name": "python3"
  },
  "language_info": {
   "codemirror_mode": {
    "name": "ipython",
    "version": 3
   },
   "file_extension": ".py",
   "mimetype": "text/x-python",
   "name": "python",
   "nbconvert_exporter": "python",
   "pygments_lexer": "ipython3",
   "version": "3.12.3"
  }
 },
 "nbformat": 4,
 "nbformat_minor": 5
}
